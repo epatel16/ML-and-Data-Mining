{
  "nbformat": 4,
  "nbformat_minor": 0,
  "metadata": {
    "colab": {
      "provenance": []
    },
    "kernelspec": {
      "name": "python3",
      "display_name": "Python 3"
    },
    "language_info": {
      "name": "python"
    },
    "accelerator": "GPU",
    "gpuClass": "standard"
  },
  "cells": [
    {
      "cell_type": "code",
      "execution_count": null,
      "metadata": {
        "id": "lyCv-pHfjBrT"
      },
      "outputs": [],
      "source": [
        "import numpy as np # linear algebra\n",
        "import pandas as pd # data processing, CSV file I/O (e.g. pd.read_csv)\n",
        "import matplotlib.pyplot as plt\n",
        "import seaborn as sns\n",
        "\n",
        "from sklearn.model_selection import train_test_split\n",
        "from sklearn.model_selection import cross_val_score\n",
        "from sklearn.ensemble import RandomForestClassifier\n",
        "from sklearn.metrics import accuracy_score"
      ]
    },
    {
      "cell_type": "markdown",
      "source": [
        "## Outline \n",
        "\n",
        "1.) ***Exploration of Data***: Created visualizations of the motile/non-motile data's particle paths to better understand what features to add to our datasets + looked into if the classes are imbalanced or not; looked at correlation plots of input vs. output variables (to decide which features to remove)\n",
        "\n",
        "2.) ***Feature Engineering***: Added 'max_step_speed','min_step_speed','mean_step_disp', 'stddev_step_disp',\n",
        "'max_step_disp', 'min_step_disp', 'mean_angle', 'std_angle','max_angle', 'min_angle', 'mean_step_accel', and'stddev_step_accel' features to dataset\n",
        "\n",
        "3.) ***Data Preprocessing***: Removed missing values, input features with high correlation values with one another, and features with low importance (based on feature importance plots)\n",
        "\n",
        "4.) **Training/Testing Random Forest Model**: Utilized cross-validation on lab data with RandomizedSearchCV to identify optimal hyperparameters; Optimized for F score and precision/recall score\n"
      ],
      "metadata": {
        "id": "nZIW5NKdbMq-"
      }
    },
    {
      "cell_type": "markdown",
      "source": [
        "##**Data Exploration/ Feature Engineering**"
      ],
      "metadata": {
        "id": "OOtbP_ZiiOPn"
      }
    },
    {
      "cell_type": "markdown",
      "source": [
        "## Link to particle path plots/code + feature engineering code: \n",
        "\n",
        "https://colab.research.google.com/drive/13sjvnPtuXK5CGZhQaWxrhXAblvSYXqGN?usp=sharing"
      ],
      "metadata": {
        "id": "aqN0CFvcin7N"
      }
    },
    {
      "cell_type": "code",
      "source": [
        "train_data = pd.read_csv('train_features_v4.csv')\n",
        "test_data = pd.read_csv('test_features_v4.csv')"
      ],
      "metadata": {
        "id": "hEVNHLYHjKpi"
      },
      "execution_count": null,
      "outputs": []
    },
    {
      "cell_type": "code",
      "source": [
        "train_data.info()"
      ],
      "metadata": {
        "colab": {
          "base_uri": "https://localhost:8080/"
        },
        "id": "iUOJAKZCI54X",
        "outputId": "c6a18471-16c3-4e8b-de33-87fb4605b9b1"
      },
      "execution_count": null,
      "outputs": [
        {
          "output_type": "stream",
          "name": "stdout",
          "text": [
            "<class 'pandas.core.frame.DataFrame'>\n",
            "RangeIndex: 16013 entries, 0 to 16012\n",
            "Data columns (total 19 columns):\n",
            " #   Column             Non-Null Count  Dtype  \n",
            "---  ------             --------------  -----  \n",
            " 0   uid                16013 non-null  object \n",
            " 1   label              16013 non-null  int64  \n",
            " 2   mean_step_speed    16013 non-null  float64\n",
            " 3   stddev_step_speed  16013 non-null  float64\n",
            " 4   track_length       16013 non-null  float64\n",
            " 5   e2e_distance       16013 non-null  float64\n",
            " 6   duration           16013 non-null  float64\n",
            " 7   max_step_speed     16013 non-null  float64\n",
            " 8   min_step_speed     16013 non-null  float64\n",
            " 9   mean_step_disp     16013 non-null  float64\n",
            " 10  stddev_step_disp   16013 non-null  float64\n",
            " 11  max_step_disp      16013 non-null  float64\n",
            " 12  min_step_disp      16013 non-null  float64\n",
            " 13  mean_angle         16013 non-null  float64\n",
            " 14  std_angle          16013 non-null  float64\n",
            " 15  max_angle          16013 non-null  float64\n",
            " 16  min_angle          16013 non-null  float64\n",
            " 17  mean_step_accel    16013 non-null  float64\n",
            " 18  stddev_step_accel  16013 non-null  float64\n",
            "dtypes: float64(17), int64(1), object(1)\n",
            "memory usage: 2.3+ MB\n"
          ]
        }
      ]
    },
    {
      "cell_type": "code",
      "source": [
        "train_data.describe()"
      ],
      "metadata": {
        "colab": {
          "base_uri": "https://localhost:8080/",
          "height": 357
        },
        "id": "YPlrfhdDI9YN",
        "outputId": "11d7276e-1446-4863-a73d-c164ce667b53"
      },
      "execution_count": null,
      "outputs": [
        {
          "output_type": "execute_result",
          "data": {
            "text/plain": [
              "              label  mean_step_speed  stddev_step_speed  track_length  \\\n",
              "count  16013.000000     16013.000000       16013.000000  16013.000000   \n",
              "mean       0.491476         0.118591           0.019822      0.270172   \n",
              "std        0.499943         0.049365           0.013993      0.176458   \n",
              "min        0.000000         0.000000           0.000000      0.000000   \n",
              "25%        0.000000         0.081339           0.011514      0.122230   \n",
              "50%        0.000000         0.086859           0.012953      0.272032   \n",
              "75%        1.000000         0.151685           0.028687      0.369501   \n",
              "max        1.000000         1.000000           1.000000      1.000000   \n",
              "\n",
              "       e2e_distance      duration  max_step_speed  min_step_speed  \\\n",
              "count  16013.000000  16013.000000    16013.000000    16013.000000   \n",
              "mean       0.240089      0.556473        0.009886        0.011019   \n",
              "std        0.143132      0.302860        0.011874        0.038363   \n",
              "min        0.000000      0.002924        0.000000        0.000000   \n",
              "25%        0.118832      0.277778        0.005743        0.000000   \n",
              "50%        0.243623      0.605263        0.005743        0.000000   \n",
              "75%        0.353401      0.877193        0.014358        0.000000   \n",
              "max        1.000000      1.000000        1.000000        1.000000   \n",
              "\n",
              "       mean_step_disp  stddev_step_disp  max_step_disp  min_step_disp  \\\n",
              "count    16013.000000      16013.000000   16013.000000   16013.000000   \n",
              "mean         0.118591          0.019822       0.009886       0.011019   \n",
              "std          0.049365          0.013993       0.011874       0.038363   \n",
              "min          0.000000          0.000000       0.000000       0.000000   \n",
              "25%          0.081339          0.011514       0.005743       0.000000   \n",
              "50%          0.086859          0.012953       0.005743       0.000000   \n",
              "75%          0.151685          0.028687       0.014358       0.000000   \n",
              "max          1.000000          1.000000       1.000000       1.000000   \n",
              "\n",
              "         mean_angle     std_angle     max_angle     min_angle  \\\n",
              "count  16013.000000  16013.000000  16013.000000  16013.000000   \n",
              "mean       0.714552      0.401988      0.874418      0.355158   \n",
              "std        0.107216      0.176045      0.069871      0.251597   \n",
              "min        0.000000      0.000000      0.000000      0.000000   \n",
              "25%        0.630567      0.254906      0.845127      0.086625   \n",
              "50%        0.783044      0.282456      0.845127      0.584359   \n",
              "75%        0.801080      0.572234      0.935840      0.584359   \n",
              "max        1.000000      1.000000      1.000000      1.000000   \n",
              "\n",
              "       mean_step_accel  stddev_step_accel  \n",
              "count     16013.000000       16013.000000  \n",
              "mean          0.081386           0.011030  \n",
              "std           0.021764           0.010759  \n",
              "min           0.000000           0.000000  \n",
              "25%           0.070520           0.009914  \n",
              "50%           0.079272           0.010614  \n",
              "75%           0.093393           0.011818  \n",
              "max           1.000000           1.000000  "
            ],
            "text/html": [
              "\n",
              "  <div id=\"df-338d7516-970e-486e-b82c-e708700a61d6\">\n",
              "    <div class=\"colab-df-container\">\n",
              "      <div>\n",
              "<style scoped>\n",
              "    .dataframe tbody tr th:only-of-type {\n",
              "        vertical-align: middle;\n",
              "    }\n",
              "\n",
              "    .dataframe tbody tr th {\n",
              "        vertical-align: top;\n",
              "    }\n",
              "\n",
              "    .dataframe thead th {\n",
              "        text-align: right;\n",
              "    }\n",
              "</style>\n",
              "<table border=\"1\" class=\"dataframe\">\n",
              "  <thead>\n",
              "    <tr style=\"text-align: right;\">\n",
              "      <th></th>\n",
              "      <th>label</th>\n",
              "      <th>mean_step_speed</th>\n",
              "      <th>stddev_step_speed</th>\n",
              "      <th>track_length</th>\n",
              "      <th>e2e_distance</th>\n",
              "      <th>duration</th>\n",
              "      <th>max_step_speed</th>\n",
              "      <th>min_step_speed</th>\n",
              "      <th>mean_step_disp</th>\n",
              "      <th>stddev_step_disp</th>\n",
              "      <th>max_step_disp</th>\n",
              "      <th>min_step_disp</th>\n",
              "      <th>mean_angle</th>\n",
              "      <th>std_angle</th>\n",
              "      <th>max_angle</th>\n",
              "      <th>min_angle</th>\n",
              "      <th>mean_step_accel</th>\n",
              "      <th>stddev_step_accel</th>\n",
              "    </tr>\n",
              "  </thead>\n",
              "  <tbody>\n",
              "    <tr>\n",
              "      <th>count</th>\n",
              "      <td>16013.000000</td>\n",
              "      <td>16013.000000</td>\n",
              "      <td>16013.000000</td>\n",
              "      <td>16013.000000</td>\n",
              "      <td>16013.000000</td>\n",
              "      <td>16013.000000</td>\n",
              "      <td>16013.000000</td>\n",
              "      <td>16013.000000</td>\n",
              "      <td>16013.000000</td>\n",
              "      <td>16013.000000</td>\n",
              "      <td>16013.000000</td>\n",
              "      <td>16013.000000</td>\n",
              "      <td>16013.000000</td>\n",
              "      <td>16013.000000</td>\n",
              "      <td>16013.000000</td>\n",
              "      <td>16013.000000</td>\n",
              "      <td>16013.000000</td>\n",
              "      <td>16013.000000</td>\n",
              "    </tr>\n",
              "    <tr>\n",
              "      <th>mean</th>\n",
              "      <td>0.491476</td>\n",
              "      <td>0.118591</td>\n",
              "      <td>0.019822</td>\n",
              "      <td>0.270172</td>\n",
              "      <td>0.240089</td>\n",
              "      <td>0.556473</td>\n",
              "      <td>0.009886</td>\n",
              "      <td>0.011019</td>\n",
              "      <td>0.118591</td>\n",
              "      <td>0.019822</td>\n",
              "      <td>0.009886</td>\n",
              "      <td>0.011019</td>\n",
              "      <td>0.714552</td>\n",
              "      <td>0.401988</td>\n",
              "      <td>0.874418</td>\n",
              "      <td>0.355158</td>\n",
              "      <td>0.081386</td>\n",
              "      <td>0.011030</td>\n",
              "    </tr>\n",
              "    <tr>\n",
              "      <th>std</th>\n",
              "      <td>0.499943</td>\n",
              "      <td>0.049365</td>\n",
              "      <td>0.013993</td>\n",
              "      <td>0.176458</td>\n",
              "      <td>0.143132</td>\n",
              "      <td>0.302860</td>\n",
              "      <td>0.011874</td>\n",
              "      <td>0.038363</td>\n",
              "      <td>0.049365</td>\n",
              "      <td>0.013993</td>\n",
              "      <td>0.011874</td>\n",
              "      <td>0.038363</td>\n",
              "      <td>0.107216</td>\n",
              "      <td>0.176045</td>\n",
              "      <td>0.069871</td>\n",
              "      <td>0.251597</td>\n",
              "      <td>0.021764</td>\n",
              "      <td>0.010759</td>\n",
              "    </tr>\n",
              "    <tr>\n",
              "      <th>min</th>\n",
              "      <td>0.000000</td>\n",
              "      <td>0.000000</td>\n",
              "      <td>0.000000</td>\n",
              "      <td>0.000000</td>\n",
              "      <td>0.000000</td>\n",
              "      <td>0.002924</td>\n",
              "      <td>0.000000</td>\n",
              "      <td>0.000000</td>\n",
              "      <td>0.000000</td>\n",
              "      <td>0.000000</td>\n",
              "      <td>0.000000</td>\n",
              "      <td>0.000000</td>\n",
              "      <td>0.000000</td>\n",
              "      <td>0.000000</td>\n",
              "      <td>0.000000</td>\n",
              "      <td>0.000000</td>\n",
              "      <td>0.000000</td>\n",
              "      <td>0.000000</td>\n",
              "    </tr>\n",
              "    <tr>\n",
              "      <th>25%</th>\n",
              "      <td>0.000000</td>\n",
              "      <td>0.081339</td>\n",
              "      <td>0.011514</td>\n",
              "      <td>0.122230</td>\n",
              "      <td>0.118832</td>\n",
              "      <td>0.277778</td>\n",
              "      <td>0.005743</td>\n",
              "      <td>0.000000</td>\n",
              "      <td>0.081339</td>\n",
              "      <td>0.011514</td>\n",
              "      <td>0.005743</td>\n",
              "      <td>0.000000</td>\n",
              "      <td>0.630567</td>\n",
              "      <td>0.254906</td>\n",
              "      <td>0.845127</td>\n",
              "      <td>0.086625</td>\n",
              "      <td>0.070520</td>\n",
              "      <td>0.009914</td>\n",
              "    </tr>\n",
              "    <tr>\n",
              "      <th>50%</th>\n",
              "      <td>0.000000</td>\n",
              "      <td>0.086859</td>\n",
              "      <td>0.012953</td>\n",
              "      <td>0.272032</td>\n",
              "      <td>0.243623</td>\n",
              "      <td>0.605263</td>\n",
              "      <td>0.005743</td>\n",
              "      <td>0.000000</td>\n",
              "      <td>0.086859</td>\n",
              "      <td>0.012953</td>\n",
              "      <td>0.005743</td>\n",
              "      <td>0.000000</td>\n",
              "      <td>0.783044</td>\n",
              "      <td>0.282456</td>\n",
              "      <td>0.845127</td>\n",
              "      <td>0.584359</td>\n",
              "      <td>0.079272</td>\n",
              "      <td>0.010614</td>\n",
              "    </tr>\n",
              "    <tr>\n",
              "      <th>75%</th>\n",
              "      <td>1.000000</td>\n",
              "      <td>0.151685</td>\n",
              "      <td>0.028687</td>\n",
              "      <td>0.369501</td>\n",
              "      <td>0.353401</td>\n",
              "      <td>0.877193</td>\n",
              "      <td>0.014358</td>\n",
              "      <td>0.000000</td>\n",
              "      <td>0.151685</td>\n",
              "      <td>0.028687</td>\n",
              "      <td>0.014358</td>\n",
              "      <td>0.000000</td>\n",
              "      <td>0.801080</td>\n",
              "      <td>0.572234</td>\n",
              "      <td>0.935840</td>\n",
              "      <td>0.584359</td>\n",
              "      <td>0.093393</td>\n",
              "      <td>0.011818</td>\n",
              "    </tr>\n",
              "    <tr>\n",
              "      <th>max</th>\n",
              "      <td>1.000000</td>\n",
              "      <td>1.000000</td>\n",
              "      <td>1.000000</td>\n",
              "      <td>1.000000</td>\n",
              "      <td>1.000000</td>\n",
              "      <td>1.000000</td>\n",
              "      <td>1.000000</td>\n",
              "      <td>1.000000</td>\n",
              "      <td>1.000000</td>\n",
              "      <td>1.000000</td>\n",
              "      <td>1.000000</td>\n",
              "      <td>1.000000</td>\n",
              "      <td>1.000000</td>\n",
              "      <td>1.000000</td>\n",
              "      <td>1.000000</td>\n",
              "      <td>1.000000</td>\n",
              "      <td>1.000000</td>\n",
              "      <td>1.000000</td>\n",
              "    </tr>\n",
              "  </tbody>\n",
              "</table>\n",
              "</div>\n",
              "      <button class=\"colab-df-convert\" onclick=\"convertToInteractive('df-338d7516-970e-486e-b82c-e708700a61d6')\"\n",
              "              title=\"Convert this dataframe to an interactive table.\"\n",
              "              style=\"display:none;\">\n",
              "        \n",
              "  <svg xmlns=\"http://www.w3.org/2000/svg\" height=\"24px\"viewBox=\"0 0 24 24\"\n",
              "       width=\"24px\">\n",
              "    <path d=\"M0 0h24v24H0V0z\" fill=\"none\"/>\n",
              "    <path d=\"M18.56 5.44l.94 2.06.94-2.06 2.06-.94-2.06-.94-.94-2.06-.94 2.06-2.06.94zm-11 1L8.5 8.5l.94-2.06 2.06-.94-2.06-.94L8.5 2.5l-.94 2.06-2.06.94zm10 10l.94 2.06.94-2.06 2.06-.94-2.06-.94-.94-2.06-.94 2.06-2.06.94z\"/><path d=\"M17.41 7.96l-1.37-1.37c-.4-.4-.92-.59-1.43-.59-.52 0-1.04.2-1.43.59L10.3 9.45l-7.72 7.72c-.78.78-.78 2.05 0 2.83L4 21.41c.39.39.9.59 1.41.59.51 0 1.02-.2 1.41-.59l7.78-7.78 2.81-2.81c.8-.78.8-2.07 0-2.86zM5.41 20L4 18.59l7.72-7.72 1.47 1.35L5.41 20z\"/>\n",
              "  </svg>\n",
              "      </button>\n",
              "      \n",
              "  <style>\n",
              "    .colab-df-container {\n",
              "      display:flex;\n",
              "      flex-wrap:wrap;\n",
              "      gap: 12px;\n",
              "    }\n",
              "\n",
              "    .colab-df-convert {\n",
              "      background-color: #E8F0FE;\n",
              "      border: none;\n",
              "      border-radius: 50%;\n",
              "      cursor: pointer;\n",
              "      display: none;\n",
              "      fill: #1967D2;\n",
              "      height: 32px;\n",
              "      padding: 0 0 0 0;\n",
              "      width: 32px;\n",
              "    }\n",
              "\n",
              "    .colab-df-convert:hover {\n",
              "      background-color: #E2EBFA;\n",
              "      box-shadow: 0px 1px 2px rgba(60, 64, 67, 0.3), 0px 1px 3px 1px rgba(60, 64, 67, 0.15);\n",
              "      fill: #174EA6;\n",
              "    }\n",
              "\n",
              "    [theme=dark] .colab-df-convert {\n",
              "      background-color: #3B4455;\n",
              "      fill: #D2E3FC;\n",
              "    }\n",
              "\n",
              "    [theme=dark] .colab-df-convert:hover {\n",
              "      background-color: #434B5C;\n",
              "      box-shadow: 0px 1px 3px 1px rgba(0, 0, 0, 0.15);\n",
              "      filter: drop-shadow(0px 1px 2px rgba(0, 0, 0, 0.3));\n",
              "      fill: #FFFFFF;\n",
              "    }\n",
              "  </style>\n",
              "\n",
              "      <script>\n",
              "        const buttonEl =\n",
              "          document.querySelector('#df-338d7516-970e-486e-b82c-e708700a61d6 button.colab-df-convert');\n",
              "        buttonEl.style.display =\n",
              "          google.colab.kernel.accessAllowed ? 'block' : 'none';\n",
              "\n",
              "        async function convertToInteractive(key) {\n",
              "          const element = document.querySelector('#df-338d7516-970e-486e-b82c-e708700a61d6');\n",
              "          const dataTable =\n",
              "            await google.colab.kernel.invokeFunction('convertToInteractive',\n",
              "                                                     [key], {});\n",
              "          if (!dataTable) return;\n",
              "\n",
              "          const docLinkHtml = 'Like what you see? Visit the ' +\n",
              "            '<a target=\"_blank\" href=https://colab.research.google.com/notebooks/data_table.ipynb>data table notebook</a>'\n",
              "            + ' to learn more about interactive tables.';\n",
              "          element.innerHTML = '';\n",
              "          dataTable['output_type'] = 'display_data';\n",
              "          await google.colab.output.renderOutput(dataTable, element);\n",
              "          const docLink = document.createElement('div');\n",
              "          docLink.innerHTML = docLinkHtml;\n",
              "          element.appendChild(docLink);\n",
              "        }\n",
              "      </script>\n",
              "    </div>\n",
              "  </div>\n",
              "  "
            ]
          },
          "metadata": {},
          "execution_count": 5
        }
      ]
    },
    {
      "cell_type": "code",
      "source": [
        "train_data.head(15)"
      ],
      "metadata": {
        "colab": {
          "base_uri": "https://localhost:8080/",
          "height": 571
        },
        "id": "2MxV50X5JEek",
        "outputId": "115ecd19-5ab7-4671-e078-45fe9a6f1b5d"
      },
      "execution_count": null,
      "outputs": [
        {
          "output_type": "execute_result",
          "data": {
            "text/plain": [
              "        uid  label  mean_step_speed  stddev_step_speed  track_length  \\\n",
              "0   lab_0_0      0         0.009109           0.002025      0.033693   \n",
              "1   lab_0_1      0         0.008686           0.001743      0.032128   \n",
              "2   lab_0_2      0         0.008809           0.002006      0.032584   \n",
              "3   lab_0_3      0         0.011363           0.002220      0.042033   \n",
              "4   lab_0_4      0         0.005146           0.001961      0.019035   \n",
              "5   lab_0_5      1         0.171764           0.015002      0.247789   \n",
              "6   lab_0_6      1         0.102645           0.016611      0.198702   \n",
              "7   lab_1_0      1         0.243196           0.052401      0.899583   \n",
              "8   lab_1_1      0         0.006593           0.000140      0.024388   \n",
              "9   lab_1_2      0         0.005884           0.001131      0.001451   \n",
              "10  lab_1_3      1         0.658544           0.061874      0.730788   \n",
              "11  lab_1_4      0         0.330193           0.016999      0.162852   \n",
              "12  lab_1_5      1         0.407558           0.061377      0.562823   \n",
              "13  lab_1_6      1         0.706434           0.067340      0.740380   \n",
              "14  lab_1_7      1         0.212731           0.024678      0.123280   \n",
              "\n",
              "    e2e_distance  duration  max_step_speed  min_step_speed  mean_step_disp  \\\n",
              "0       0.033940  0.877193        0.001171        0.002158        0.009109   \n",
              "1       0.027681  0.877193        0.000729        0.001326        0.008686   \n",
              "2       0.026583  0.877193        0.000966        0.002437        0.008809   \n",
              "3       0.035717  0.877193        0.000925        0.004687        0.011363   \n",
              "4       0.001358  0.877193        0.000797        0.001383        0.005146   \n",
              "5       0.285407  0.342105        0.008834        0.063343        0.171764   \n",
              "6       0.124064  0.459064        0.006672        0.035983        0.102645   \n",
              "7       0.807726  0.877193        0.026474        0.054303        0.243196   \n",
              "8       0.030654  0.877193        0.000271        0.007313        0.006593   \n",
              "9       0.001878  0.058480        0.000284        0.000000        0.005884   \n",
              "10      0.911973  0.263158        0.036788        0.377303        0.658544   \n",
              "11      0.207914  0.116959        0.015464        0.312500        0.330193   \n",
              "12      0.214193  0.327485        0.031798        0.151655        0.407558   \n",
              "13      0.877872  0.248538        0.045810        0.429461        0.706434   \n",
              "14      0.123113  0.137427        0.012202        0.069877        0.212731   \n",
              "\n",
              "    stddev_step_disp  max_step_disp  min_step_disp  mean_angle  std_angle  \\\n",
              "0           0.002025       0.001171       0.002158    0.652603   0.543520   \n",
              "1           0.001743       0.000729       0.001326    0.617530   0.620026   \n",
              "2           0.002006       0.000966       0.002437    0.633221   0.525604   \n",
              "3           0.002220       0.000925       0.004687    0.568889   0.616677   \n",
              "4           0.001961       0.000797       0.001383    0.710587   0.564535   \n",
              "5           0.015002       0.008834       0.063343    0.498754   0.862750   \n",
              "6           0.016611       0.006672       0.035983    0.629850   0.523342   \n",
              "7           0.052401       0.026474       0.054303    0.474879   0.797129   \n",
              "8           0.000140       0.000271       0.007313    0.477172   0.198884   \n",
              "9           0.001131       0.000284       0.000000    0.454465   0.402672   \n",
              "10          0.061874       0.036788       0.377303    0.198637   0.664746   \n",
              "11          0.016999       0.015464       0.312500    0.373357   0.134860   \n",
              "12          0.061377       0.031798       0.151655    0.724763   0.788072   \n",
              "13          0.067340       0.045810       0.429461    0.676855   0.338153   \n",
              "14          0.024678       0.012202       0.069877    0.470433   0.649018   \n",
              "\n",
              "    max_angle  min_angle  mean_step_accel  stddev_step_accel  \n",
              "0    0.936945   0.049285         0.001408           0.001103  \n",
              "1    0.922441   0.080110         0.001302           0.000934  \n",
              "2    0.936945   0.047725         0.001316           0.000985  \n",
              "3    0.935840   0.021426         0.001626           0.001306  \n",
              "4    0.967315   0.085560         0.000713           0.000830  \n",
              "5    0.948834   0.168717         0.007308           0.005320  \n",
              "6    0.925079   0.224738         0.010210           0.005544  \n",
              "7    0.972238   0.011693         0.125023           0.036242  \n",
              "8    0.579363   0.439410         0.000079           0.000086  \n",
              "9    0.735506   0.409098         0.000508           0.000443  \n",
              "10   0.986089   0.022387         0.073546           0.024742  \n",
              "11   0.467920   0.309248         0.066488           0.017793  \n",
              "12   0.992782   0.014378         0.102045           0.031401  \n",
              "13   0.799634   0.392713         0.164823           0.046160  \n",
              "14   0.868635   0.062122         0.068755           0.026529  "
            ],
            "text/html": [
              "\n",
              "  <div id=\"df-d29fe8ce-ebb1-4232-baef-4e93bbd38086\">\n",
              "    <div class=\"colab-df-container\">\n",
              "      <div>\n",
              "<style scoped>\n",
              "    .dataframe tbody tr th:only-of-type {\n",
              "        vertical-align: middle;\n",
              "    }\n",
              "\n",
              "    .dataframe tbody tr th {\n",
              "        vertical-align: top;\n",
              "    }\n",
              "\n",
              "    .dataframe thead th {\n",
              "        text-align: right;\n",
              "    }\n",
              "</style>\n",
              "<table border=\"1\" class=\"dataframe\">\n",
              "  <thead>\n",
              "    <tr style=\"text-align: right;\">\n",
              "      <th></th>\n",
              "      <th>uid</th>\n",
              "      <th>label</th>\n",
              "      <th>mean_step_speed</th>\n",
              "      <th>stddev_step_speed</th>\n",
              "      <th>track_length</th>\n",
              "      <th>e2e_distance</th>\n",
              "      <th>duration</th>\n",
              "      <th>max_step_speed</th>\n",
              "      <th>min_step_speed</th>\n",
              "      <th>mean_step_disp</th>\n",
              "      <th>stddev_step_disp</th>\n",
              "      <th>max_step_disp</th>\n",
              "      <th>min_step_disp</th>\n",
              "      <th>mean_angle</th>\n",
              "      <th>std_angle</th>\n",
              "      <th>max_angle</th>\n",
              "      <th>min_angle</th>\n",
              "      <th>mean_step_accel</th>\n",
              "      <th>stddev_step_accel</th>\n",
              "    </tr>\n",
              "  </thead>\n",
              "  <tbody>\n",
              "    <tr>\n",
              "      <th>0</th>\n",
              "      <td>lab_0_0</td>\n",
              "      <td>0</td>\n",
              "      <td>0.009109</td>\n",
              "      <td>0.002025</td>\n",
              "      <td>0.033693</td>\n",
              "      <td>0.033940</td>\n",
              "      <td>0.877193</td>\n",
              "      <td>0.001171</td>\n",
              "      <td>0.002158</td>\n",
              "      <td>0.009109</td>\n",
              "      <td>0.002025</td>\n",
              "      <td>0.001171</td>\n",
              "      <td>0.002158</td>\n",
              "      <td>0.652603</td>\n",
              "      <td>0.543520</td>\n",
              "      <td>0.936945</td>\n",
              "      <td>0.049285</td>\n",
              "      <td>0.001408</td>\n",
              "      <td>0.001103</td>\n",
              "    </tr>\n",
              "    <tr>\n",
              "      <th>1</th>\n",
              "      <td>lab_0_1</td>\n",
              "      <td>0</td>\n",
              "      <td>0.008686</td>\n",
              "      <td>0.001743</td>\n",
              "      <td>0.032128</td>\n",
              "      <td>0.027681</td>\n",
              "      <td>0.877193</td>\n",
              "      <td>0.000729</td>\n",
              "      <td>0.001326</td>\n",
              "      <td>0.008686</td>\n",
              "      <td>0.001743</td>\n",
              "      <td>0.000729</td>\n",
              "      <td>0.001326</td>\n",
              "      <td>0.617530</td>\n",
              "      <td>0.620026</td>\n",
              "      <td>0.922441</td>\n",
              "      <td>0.080110</td>\n",
              "      <td>0.001302</td>\n",
              "      <td>0.000934</td>\n",
              "    </tr>\n",
              "    <tr>\n",
              "      <th>2</th>\n",
              "      <td>lab_0_2</td>\n",
              "      <td>0</td>\n",
              "      <td>0.008809</td>\n",
              "      <td>0.002006</td>\n",
              "      <td>0.032584</td>\n",
              "      <td>0.026583</td>\n",
              "      <td>0.877193</td>\n",
              "      <td>0.000966</td>\n",
              "      <td>0.002437</td>\n",
              "      <td>0.008809</td>\n",
              "      <td>0.002006</td>\n",
              "      <td>0.000966</td>\n",
              "      <td>0.002437</td>\n",
              "      <td>0.633221</td>\n",
              "      <td>0.525604</td>\n",
              "      <td>0.936945</td>\n",
              "      <td>0.047725</td>\n",
              "      <td>0.001316</td>\n",
              "      <td>0.000985</td>\n",
              "    </tr>\n",
              "    <tr>\n",
              "      <th>3</th>\n",
              "      <td>lab_0_3</td>\n",
              "      <td>0</td>\n",
              "      <td>0.011363</td>\n",
              "      <td>0.002220</td>\n",
              "      <td>0.042033</td>\n",
              "      <td>0.035717</td>\n",
              "      <td>0.877193</td>\n",
              "      <td>0.000925</td>\n",
              "      <td>0.004687</td>\n",
              "      <td>0.011363</td>\n",
              "      <td>0.002220</td>\n",
              "      <td>0.000925</td>\n",
              "      <td>0.004687</td>\n",
              "      <td>0.568889</td>\n",
              "      <td>0.616677</td>\n",
              "      <td>0.935840</td>\n",
              "      <td>0.021426</td>\n",
              "      <td>0.001626</td>\n",
              "      <td>0.001306</td>\n",
              "    </tr>\n",
              "    <tr>\n",
              "      <th>4</th>\n",
              "      <td>lab_0_4</td>\n",
              "      <td>0</td>\n",
              "      <td>0.005146</td>\n",
              "      <td>0.001961</td>\n",
              "      <td>0.019035</td>\n",
              "      <td>0.001358</td>\n",
              "      <td>0.877193</td>\n",
              "      <td>0.000797</td>\n",
              "      <td>0.001383</td>\n",
              "      <td>0.005146</td>\n",
              "      <td>0.001961</td>\n",
              "      <td>0.000797</td>\n",
              "      <td>0.001383</td>\n",
              "      <td>0.710587</td>\n",
              "      <td>0.564535</td>\n",
              "      <td>0.967315</td>\n",
              "      <td>0.085560</td>\n",
              "      <td>0.000713</td>\n",
              "      <td>0.000830</td>\n",
              "    </tr>\n",
              "    <tr>\n",
              "      <th>5</th>\n",
              "      <td>lab_0_5</td>\n",
              "      <td>1</td>\n",
              "      <td>0.171764</td>\n",
              "      <td>0.015002</td>\n",
              "      <td>0.247789</td>\n",
              "      <td>0.285407</td>\n",
              "      <td>0.342105</td>\n",
              "      <td>0.008834</td>\n",
              "      <td>0.063343</td>\n",
              "      <td>0.171764</td>\n",
              "      <td>0.015002</td>\n",
              "      <td>0.008834</td>\n",
              "      <td>0.063343</td>\n",
              "      <td>0.498754</td>\n",
              "      <td>0.862750</td>\n",
              "      <td>0.948834</td>\n",
              "      <td>0.168717</td>\n",
              "      <td>0.007308</td>\n",
              "      <td>0.005320</td>\n",
              "    </tr>\n",
              "    <tr>\n",
              "      <th>6</th>\n",
              "      <td>lab_0_6</td>\n",
              "      <td>1</td>\n",
              "      <td>0.102645</td>\n",
              "      <td>0.016611</td>\n",
              "      <td>0.198702</td>\n",
              "      <td>0.124064</td>\n",
              "      <td>0.459064</td>\n",
              "      <td>0.006672</td>\n",
              "      <td>0.035983</td>\n",
              "      <td>0.102645</td>\n",
              "      <td>0.016611</td>\n",
              "      <td>0.006672</td>\n",
              "      <td>0.035983</td>\n",
              "      <td>0.629850</td>\n",
              "      <td>0.523342</td>\n",
              "      <td>0.925079</td>\n",
              "      <td>0.224738</td>\n",
              "      <td>0.010210</td>\n",
              "      <td>0.005544</td>\n",
              "    </tr>\n",
              "    <tr>\n",
              "      <th>7</th>\n",
              "      <td>lab_1_0</td>\n",
              "      <td>1</td>\n",
              "      <td>0.243196</td>\n",
              "      <td>0.052401</td>\n",
              "      <td>0.899583</td>\n",
              "      <td>0.807726</td>\n",
              "      <td>0.877193</td>\n",
              "      <td>0.026474</td>\n",
              "      <td>0.054303</td>\n",
              "      <td>0.243196</td>\n",
              "      <td>0.052401</td>\n",
              "      <td>0.026474</td>\n",
              "      <td>0.054303</td>\n",
              "      <td>0.474879</td>\n",
              "      <td>0.797129</td>\n",
              "      <td>0.972238</td>\n",
              "      <td>0.011693</td>\n",
              "      <td>0.125023</td>\n",
              "      <td>0.036242</td>\n",
              "    </tr>\n",
              "    <tr>\n",
              "      <th>8</th>\n",
              "      <td>lab_1_1</td>\n",
              "      <td>0</td>\n",
              "      <td>0.006593</td>\n",
              "      <td>0.000140</td>\n",
              "      <td>0.024388</td>\n",
              "      <td>0.030654</td>\n",
              "      <td>0.877193</td>\n",
              "      <td>0.000271</td>\n",
              "      <td>0.007313</td>\n",
              "      <td>0.006593</td>\n",
              "      <td>0.000140</td>\n",
              "      <td>0.000271</td>\n",
              "      <td>0.007313</td>\n",
              "      <td>0.477172</td>\n",
              "      <td>0.198884</td>\n",
              "      <td>0.579363</td>\n",
              "      <td>0.439410</td>\n",
              "      <td>0.000079</td>\n",
              "      <td>0.000086</td>\n",
              "    </tr>\n",
              "    <tr>\n",
              "      <th>9</th>\n",
              "      <td>lab_1_2</td>\n",
              "      <td>0</td>\n",
              "      <td>0.005884</td>\n",
              "      <td>0.001131</td>\n",
              "      <td>0.001451</td>\n",
              "      <td>0.001878</td>\n",
              "      <td>0.058480</td>\n",
              "      <td>0.000284</td>\n",
              "      <td>0.000000</td>\n",
              "      <td>0.005884</td>\n",
              "      <td>0.001131</td>\n",
              "      <td>0.000284</td>\n",
              "      <td>0.000000</td>\n",
              "      <td>0.454465</td>\n",
              "      <td>0.402672</td>\n",
              "      <td>0.735506</td>\n",
              "      <td>0.409098</td>\n",
              "      <td>0.000508</td>\n",
              "      <td>0.000443</td>\n",
              "    </tr>\n",
              "    <tr>\n",
              "      <th>10</th>\n",
              "      <td>lab_1_3</td>\n",
              "      <td>1</td>\n",
              "      <td>0.658544</td>\n",
              "      <td>0.061874</td>\n",
              "      <td>0.730788</td>\n",
              "      <td>0.911973</td>\n",
              "      <td>0.263158</td>\n",
              "      <td>0.036788</td>\n",
              "      <td>0.377303</td>\n",
              "      <td>0.658544</td>\n",
              "      <td>0.061874</td>\n",
              "      <td>0.036788</td>\n",
              "      <td>0.377303</td>\n",
              "      <td>0.198637</td>\n",
              "      <td>0.664746</td>\n",
              "      <td>0.986089</td>\n",
              "      <td>0.022387</td>\n",
              "      <td>0.073546</td>\n",
              "      <td>0.024742</td>\n",
              "    </tr>\n",
              "    <tr>\n",
              "      <th>11</th>\n",
              "      <td>lab_1_4</td>\n",
              "      <td>0</td>\n",
              "      <td>0.330193</td>\n",
              "      <td>0.016999</td>\n",
              "      <td>0.162852</td>\n",
              "      <td>0.207914</td>\n",
              "      <td>0.116959</td>\n",
              "      <td>0.015464</td>\n",
              "      <td>0.312500</td>\n",
              "      <td>0.330193</td>\n",
              "      <td>0.016999</td>\n",
              "      <td>0.015464</td>\n",
              "      <td>0.312500</td>\n",
              "      <td>0.373357</td>\n",
              "      <td>0.134860</td>\n",
              "      <td>0.467920</td>\n",
              "      <td>0.309248</td>\n",
              "      <td>0.066488</td>\n",
              "      <td>0.017793</td>\n",
              "    </tr>\n",
              "    <tr>\n",
              "      <th>12</th>\n",
              "      <td>lab_1_5</td>\n",
              "      <td>1</td>\n",
              "      <td>0.407558</td>\n",
              "      <td>0.061377</td>\n",
              "      <td>0.562823</td>\n",
              "      <td>0.214193</td>\n",
              "      <td>0.327485</td>\n",
              "      <td>0.031798</td>\n",
              "      <td>0.151655</td>\n",
              "      <td>0.407558</td>\n",
              "      <td>0.061377</td>\n",
              "      <td>0.031798</td>\n",
              "      <td>0.151655</td>\n",
              "      <td>0.724763</td>\n",
              "      <td>0.788072</td>\n",
              "      <td>0.992782</td>\n",
              "      <td>0.014378</td>\n",
              "      <td>0.102045</td>\n",
              "      <td>0.031401</td>\n",
              "    </tr>\n",
              "    <tr>\n",
              "      <th>13</th>\n",
              "      <td>lab_1_6</td>\n",
              "      <td>1</td>\n",
              "      <td>0.706434</td>\n",
              "      <td>0.067340</td>\n",
              "      <td>0.740380</td>\n",
              "      <td>0.877872</td>\n",
              "      <td>0.248538</td>\n",
              "      <td>0.045810</td>\n",
              "      <td>0.429461</td>\n",
              "      <td>0.706434</td>\n",
              "      <td>0.067340</td>\n",
              "      <td>0.045810</td>\n",
              "      <td>0.429461</td>\n",
              "      <td>0.676855</td>\n",
              "      <td>0.338153</td>\n",
              "      <td>0.799634</td>\n",
              "      <td>0.392713</td>\n",
              "      <td>0.164823</td>\n",
              "      <td>0.046160</td>\n",
              "    </tr>\n",
              "    <tr>\n",
              "      <th>14</th>\n",
              "      <td>lab_1_7</td>\n",
              "      <td>1</td>\n",
              "      <td>0.212731</td>\n",
              "      <td>0.024678</td>\n",
              "      <td>0.123280</td>\n",
              "      <td>0.123113</td>\n",
              "      <td>0.137427</td>\n",
              "      <td>0.012202</td>\n",
              "      <td>0.069877</td>\n",
              "      <td>0.212731</td>\n",
              "      <td>0.024678</td>\n",
              "      <td>0.012202</td>\n",
              "      <td>0.069877</td>\n",
              "      <td>0.470433</td>\n",
              "      <td>0.649018</td>\n",
              "      <td>0.868635</td>\n",
              "      <td>0.062122</td>\n",
              "      <td>0.068755</td>\n",
              "      <td>0.026529</td>\n",
              "    </tr>\n",
              "  </tbody>\n",
              "</table>\n",
              "</div>\n",
              "      <button class=\"colab-df-convert\" onclick=\"convertToInteractive('df-d29fe8ce-ebb1-4232-baef-4e93bbd38086')\"\n",
              "              title=\"Convert this dataframe to an interactive table.\"\n",
              "              style=\"display:none;\">\n",
              "        \n",
              "  <svg xmlns=\"http://www.w3.org/2000/svg\" height=\"24px\"viewBox=\"0 0 24 24\"\n",
              "       width=\"24px\">\n",
              "    <path d=\"M0 0h24v24H0V0z\" fill=\"none\"/>\n",
              "    <path d=\"M18.56 5.44l.94 2.06.94-2.06 2.06-.94-2.06-.94-.94-2.06-.94 2.06-2.06.94zm-11 1L8.5 8.5l.94-2.06 2.06-.94-2.06-.94L8.5 2.5l-.94 2.06-2.06.94zm10 10l.94 2.06.94-2.06 2.06-.94-2.06-.94-.94-2.06-.94 2.06-2.06.94z\"/><path d=\"M17.41 7.96l-1.37-1.37c-.4-.4-.92-.59-1.43-.59-.52 0-1.04.2-1.43.59L10.3 9.45l-7.72 7.72c-.78.78-.78 2.05 0 2.83L4 21.41c.39.39.9.59 1.41.59.51 0 1.02-.2 1.41-.59l7.78-7.78 2.81-2.81c.8-.78.8-2.07 0-2.86zM5.41 20L4 18.59l7.72-7.72 1.47 1.35L5.41 20z\"/>\n",
              "  </svg>\n",
              "      </button>\n",
              "      \n",
              "  <style>\n",
              "    .colab-df-container {\n",
              "      display:flex;\n",
              "      flex-wrap:wrap;\n",
              "      gap: 12px;\n",
              "    }\n",
              "\n",
              "    .colab-df-convert {\n",
              "      background-color: #E8F0FE;\n",
              "      border: none;\n",
              "      border-radius: 50%;\n",
              "      cursor: pointer;\n",
              "      display: none;\n",
              "      fill: #1967D2;\n",
              "      height: 32px;\n",
              "      padding: 0 0 0 0;\n",
              "      width: 32px;\n",
              "    }\n",
              "\n",
              "    .colab-df-convert:hover {\n",
              "      background-color: #E2EBFA;\n",
              "      box-shadow: 0px 1px 2px rgba(60, 64, 67, 0.3), 0px 1px 3px 1px rgba(60, 64, 67, 0.15);\n",
              "      fill: #174EA6;\n",
              "    }\n",
              "\n",
              "    [theme=dark] .colab-df-convert {\n",
              "      background-color: #3B4455;\n",
              "      fill: #D2E3FC;\n",
              "    }\n",
              "\n",
              "    [theme=dark] .colab-df-convert:hover {\n",
              "      background-color: #434B5C;\n",
              "      box-shadow: 0px 1px 3px 1px rgba(0, 0, 0, 0.15);\n",
              "      filter: drop-shadow(0px 1px 2px rgba(0, 0, 0, 0.3));\n",
              "      fill: #FFFFFF;\n",
              "    }\n",
              "  </style>\n",
              "\n",
              "      <script>\n",
              "        const buttonEl =\n",
              "          document.querySelector('#df-d29fe8ce-ebb1-4232-baef-4e93bbd38086 button.colab-df-convert');\n",
              "        buttonEl.style.display =\n",
              "          google.colab.kernel.accessAllowed ? 'block' : 'none';\n",
              "\n",
              "        async function convertToInteractive(key) {\n",
              "          const element = document.querySelector('#df-d29fe8ce-ebb1-4232-baef-4e93bbd38086');\n",
              "          const dataTable =\n",
              "            await google.colab.kernel.invokeFunction('convertToInteractive',\n",
              "                                                     [key], {});\n",
              "          if (!dataTable) return;\n",
              "\n",
              "          const docLinkHtml = 'Like what you see? Visit the ' +\n",
              "            '<a target=\"_blank\" href=https://colab.research.google.com/notebooks/data_table.ipynb>data table notebook</a>'\n",
              "            + ' to learn more about interactive tables.';\n",
              "          element.innerHTML = '';\n",
              "          dataTable['output_type'] = 'display_data';\n",
              "          await google.colab.output.renderOutput(dataTable, element);\n",
              "          const docLink = document.createElement('div');\n",
              "          docLink.innerHTML = docLinkHtml;\n",
              "          element.appendChild(docLink);\n",
              "        }\n",
              "      </script>\n",
              "    </div>\n",
              "  </div>\n",
              "  "
            ]
          },
          "metadata": {},
          "execution_count": 6
        }
      ]
    },
    {
      "cell_type": "code",
      "source": [
        "train_data['label'].value_counts()"
      ],
      "metadata": {
        "colab": {
          "base_uri": "https://localhost:8080/"
        },
        "id": "V2ZBAAH-JOeL",
        "outputId": "5da22a49-74ac-45da-a5b5-7f494e927e42"
      },
      "execution_count": null,
      "outputs": [
        {
          "output_type": "execute_result",
          "data": {
            "text/plain": [
              "0    8143\n",
              "1    7870\n",
              "Name: label, dtype: int64"
            ]
          },
          "metadata": {},
          "execution_count": 7
        }
      ]
    },
    {
      "cell_type": "code",
      "source": [
        "train_data.columns.values"
      ],
      "metadata": {
        "colab": {
          "base_uri": "https://localhost:8080/"
        },
        "id": "o8aMHAarLCYK",
        "outputId": "43949af6-a3cf-47d1-c2fc-97010eaa6c18"
      },
      "execution_count": null,
      "outputs": [
        {
          "output_type": "execute_result",
          "data": {
            "text/plain": [
              "array(['uid', 'label', 'mean_step_speed', 'stddev_step_speed',\n",
              "       'track_length', 'e2e_distance', 'duration', 'max_step_speed',\n",
              "       'min_step_speed', 'mean_step_disp', 'stddev_step_disp',\n",
              "       'max_step_disp', 'min_step_disp', 'mean_angle', 'std_angle',\n",
              "       'max_angle', 'min_angle', 'mean_step_accel', 'stddev_step_accel'],\n",
              "      dtype=object)"
            ]
          },
          "metadata": {},
          "execution_count": 10
        }
      ]
    },
    {
      "cell_type": "code",
      "source": [
        "corr_df=train_data.corr()\n",
        "cor= corr_df.corr(method='pearson')\n",
        "print(cor)"
      ],
      "metadata": {
        "id": "820GM3zzLGfv"
      },
      "execution_count": null,
      "outputs": []
    },
    {
      "cell_type": "code",
      "source": [
        "fig, ax =plt.subplots(figsize=(8, 6))\n",
        "plt.title(\"Correlation Plot\")\n",
        "sns.heatmap(cor, annot = True)\n",
        "plt.show()"
      ],
      "metadata": {
        "colab": {
          "base_uri": "https://localhost:8080/",
          "height": 496
        },
        "id": "PZgJFq5nLMOv",
        "outputId": "de0fbee8-9341-4b53-acdd-19f1373ff191"
      },
      "execution_count": null,
      "outputs": [
        {
          "output_type": "display_data",
          "data": {
            "text/plain": [
              "<Figure size 576x432 with 2 Axes>"
            ],
            "image/png": "[encoded data removed]"
          },
          "metadata": {
            "needs_background": "light"
          }
        }
      ]
    },
    {
      "cell_type": "markdown",
      "source": [
        "## **Testing/Training on New Features**"
      ],
      "metadata": {
        "id": "0zOadO4RjYhq"
      }
    },
    {
      "cell_type": "markdown",
      "source": [
        "##K-Fold Cross Validation:\n",
        "K-Fold Cross Validation randomly splits the training data into K subsets called folds. Let's image we would split our data into 4 folds (K = 4). Our random forest model would be trained and evaluated 4 times, using a different fold for evaluation everytime, while it would be trained on the remaining 3 folds.\n",
        "\n",
        "The image below shows the process, using 4 folds (K = 4). Every row represents one training + evaluation process. In the first row, the model get's trained on the first, second and third subset and evaluated on the fourth. In the second row, the model get's trained on the second, third and fourth subset and evaluated on the first. K-Fold Cross Validation repeats this process till every fold acted once as an evaluation fold.\n",
        "\n",
        "cross-v.\n",
        "\n",
        "The result of our K-Fold Cross Validation example would be an array that contains 4 different scores. We then need to compute the mean and the standard deviation for these scores.\n",
        "\n",
        "The code below perform K-Fold Cross Validation on our random forest model, using 10 folds (K = 10). Therefore it outputs an array with 10 different scores."
      ],
      "metadata": {
        "id": "6ifNp5L4N_Sh"
      }
    },
    {
      "cell_type": "code",
      "source": [
        "X_train = train_data.drop('label', axis = 1)\n",
        "X_train = X_train.drop('uid', axis = 1)\n",
        "X_train = X_train.dropna()"
      ],
      "metadata": {
        "id": "8CdWIbJTOJAq"
      },
      "execution_count": null,
      "outputs": []
    },
    {
      "cell_type": "code",
      "source": [
        "train_data.dropna()\n",
        "Y_train = train_data.label"
      ],
      "metadata": {
        "id": "3WSaELELOSKV"
      },
      "execution_count": null,
      "outputs": []
    },
    {
      "cell_type": "code",
      "source": [
        "from sklearn.model_selection import cross_val_score\n",
        "rf = RandomForestClassifier(n_estimators=100)\n",
        "scores = cross_val_score(rf, X_train, Y_train, cv=10, scoring = \"accuracy\")"
      ],
      "metadata": {
        "id": "nZ_tcMSdN9Ya"
      },
      "execution_count": null,
      "outputs": []
    },
    {
      "cell_type": "code",
      "source": [
        "print(\"Scores:\", scores)\n",
        "print(\"Mean:\", scores.mean())\n",
        "print(\"Standard Deviation:\", scores.std())"
      ],
      "metadata": {
        "colab": {
          "base_uri": "https://localhost:8080/"
        },
        "id": "FexXNsgdN-EE",
        "outputId": "11e394d2-1317-460f-fd2b-2e473c9491da"
      },
      "execution_count": null,
      "outputs": [
        {
          "output_type": "stream",
          "name": "stdout",
          "text": [
            "Scores: [0.87827715 0.99875156 0.99812734 0.99937539 0.99812617 0.99750156\n",
            " 0.99875078 0.99812617 0.99750156 0.99812617]\n",
            "Mean: 0.9862663862551571\n",
            "Standard Deviation: 0.0360005057099601\n"
          ]
        }
      ]
    },
    {
      "cell_type": "markdown",
      "source": [
        "This looks much more realistic than before. Our model has a average accuracy of 98.6% with a standard deviation of 3.6 %. The standard deviation shows us, how precise the estimates are .\n",
        "\n",
        "This means in our case that the accuracy of our model can differ + - 3.6%.\n",
        "\n",
        "I think the accuracy is still really good and since random forest is an easy to use model, we will try to increase it's performance even further in the following section."
      ],
      "metadata": {
        "id": "VqBwYK4UOtEB"
      }
    },
    {
      "cell_type": "markdown",
      "source": [
        "##Feature Importance\n",
        "Another great quality of random forest is that they make it very easy to measure the relative importance of each feature. Sklearn measure a features importance by looking at how much the treee nodes, that use that feature, reduce impurity on average (across all trees in the forest). It computes this score automaticall for each feature after training and scales the results so that the sum of all importances is equal to 1. We will access this below:"
      ],
      "metadata": {
        "id": "VCy5NVJ2Qlsl"
      }
    },
    {
      "cell_type": "code",
      "source": [
        "rf.fit(X_train, Y_train)"
      ],
      "metadata": {
        "colab": {
          "base_uri": "https://localhost:8080/"
        },
        "id": "l2FPrE45Q6LC",
        "outputId": "7ff1b9b6-a14e-4e29-c279-fe900dcf97ab"
      },
      "execution_count": null,
      "outputs": [
        {
          "output_type": "execute_result",
          "data": {
            "text/plain": [
              "RandomForestClassifier()"
            ]
          },
          "metadata": {},
          "execution_count": 23
        }
      ]
    },
    {
      "cell_type": "code",
      "source": [
        "importances = pd.DataFrame({'feature':X_train.columns,'importance':np.round(rf.feature_importances_,3)})\n",
        "importances = importances.sort_values('importance',ascending=False).set_index('feature')"
      ],
      "metadata": {
        "id": "BOdpSgL6Mtkq"
      },
      "execution_count": null,
      "outputs": []
    },
    {
      "cell_type": "code",
      "source": [
        "importances"
      ],
      "metadata": {
        "colab": {
          "base_uri": "https://localhost:8080/",
          "height": 618
        },
        "id": "B4eqJAY1M0Pu",
        "outputId": "cd5f2176-bc4e-458a-9d46-b566d41241b7"
      },
      "execution_count": null,
      "outputs": [
        {
          "output_type": "execute_result",
          "data": {
            "text/plain": [
              "                   importance\n",
              "feature                      \n",
              "max_step_speed          0.185\n",
              "mean_step_speed         0.180\n",
              "max_step_disp           0.167\n",
              "mean_step_disp          0.134\n",
              "stddev_step_disp        0.088\n",
              "min_angle               0.076\n",
              "stddev_step_speed       0.068\n",
              "std_angle               0.034\n",
              "mean_step_accel         0.018\n",
              "max_angle               0.017\n",
              "mean_angle              0.013\n",
              "duration                0.006\n",
              "e2e_distance            0.006\n",
              "track_length            0.005\n",
              "stddev_step_accel       0.005\n",
              "min_step_speed          0.001\n",
              "min_step_disp           0.001"
            ],
            "text/html": [
              "\n",
              "  <div id=\"df-b076c7a8-5fe3-484f-ad52-47493a28001e\">\n",
              "    <div class=\"colab-df-container\">\n",
              "      <div>\n",
              "<style scoped>\n",
              "    .dataframe tbody tr th:only-of-type {\n",
              "        vertical-align: middle;\n",
              "    }\n",
              "\n",
              "    .dataframe tbody tr th {\n",
              "        vertical-align: top;\n",
              "    }\n",
              "\n",
              "    .dataframe thead th {\n",
              "        text-align: right;\n",
              "    }\n",
              "</style>\n",
              "<table border=\"1\" class=\"dataframe\">\n",
              "  <thead>\n",
              "    <tr style=\"text-align: right;\">\n",
              "      <th></th>\n",
              "      <th>importance</th>\n",
              "    </tr>\n",
              "    <tr>\n",
              "      <th>feature</th>\n",
              "      <th></th>\n",
              "    </tr>\n",
              "  </thead>\n",
              "  <tbody>\n",
              "    <tr>\n",
              "      <th>max_step_speed</th>\n",
              "      <td>0.185</td>\n",
              "    </tr>\n",
              "    <tr>\n",
              "      <th>mean_step_speed</th>\n",
              "      <td>0.180</td>\n",
              "    </tr>\n",
              "    <tr>\n",
              "      <th>max_step_disp</th>\n",
              "      <td>0.167</td>\n",
              "    </tr>\n",
              "    <tr>\n",
              "      <th>mean_step_disp</th>\n",
              "      <td>0.134</td>\n",
              "    </tr>\n",
              "    <tr>\n",
              "      <th>stddev_step_disp</th>\n",
              "      <td>0.088</td>\n",
              "    </tr>\n",
              "    <tr>\n",
              "      <th>min_angle</th>\n",
              "      <td>0.076</td>\n",
              "    </tr>\n",
              "    <tr>\n",
              "      <th>stddev_step_speed</th>\n",
              "      <td>0.068</td>\n",
              "    </tr>\n",
              "    <tr>\n",
              "      <th>std_angle</th>\n",
              "      <td>0.034</td>\n",
              "    </tr>\n",
              "    <tr>\n",
              "      <th>mean_step_accel</th>\n",
              "      <td>0.018</td>\n",
              "    </tr>\n",
              "    <tr>\n",
              "      <th>max_angle</th>\n",
              "      <td>0.017</td>\n",
              "    </tr>\n",
              "    <tr>\n",
              "      <th>mean_angle</th>\n",
              "      <td>0.013</td>\n",
              "    </tr>\n",
              "    <tr>\n",
              "      <th>duration</th>\n",
              "      <td>0.006</td>\n",
              "    </tr>\n",
              "    <tr>\n",
              "      <th>e2e_distance</th>\n",
              "      <td>0.006</td>\n",
              "    </tr>\n",
              "    <tr>\n",
              "      <th>track_length</th>\n",
              "      <td>0.005</td>\n",
              "    </tr>\n",
              "    <tr>\n",
              "      <th>stddev_step_accel</th>\n",
              "      <td>0.005</td>\n",
              "    </tr>\n",
              "    <tr>\n",
              "      <th>min_step_speed</th>\n",
              "      <td>0.001</td>\n",
              "    </tr>\n",
              "    <tr>\n",
              "      <th>min_step_disp</th>\n",
              "      <td>0.001</td>\n",
              "    </tr>\n",
              "  </tbody>\n",
              "</table>\n",
              "</div>\n",
              "      <button class=\"colab-df-convert\" onclick=\"convertToInteractive('df-b076c7a8-5fe3-484f-ad52-47493a28001e')\"\n",
              "              title=\"Convert this dataframe to an interactive table.\"\n",
              "              style=\"display:none;\">\n",
              "        \n",
              "  <svg xmlns=\"http://www.w3.org/2000/svg\" height=\"24px\"viewBox=\"0 0 24 24\"\n",
              "       width=\"24px\">\n",
              "    <path d=\"M0 0h24v24H0V0z\" fill=\"none\"/>\n",
              "    <path d=\"M18.56 5.44l.94 2.06.94-2.06 2.06-.94-2.06-.94-.94-2.06-.94 2.06-2.06.94zm-11 1L8.5 8.5l.94-2.06 2.06-.94-2.06-.94L8.5 2.5l-.94 2.06-2.06.94zm10 10l.94 2.06.94-2.06 2.06-.94-2.06-.94-.94-2.06-.94 2.06-2.06.94z\"/><path d=\"M17.41 7.96l-1.37-1.37c-.4-.4-.92-.59-1.43-.59-.52 0-1.04.2-1.43.59L10.3 9.45l-7.72 7.72c-.78.78-.78 2.05 0 2.83L4 21.41c.39.39.9.59 1.41.59.51 0 1.02-.2 1.41-.59l7.78-7.78 2.81-2.81c.8-.78.8-2.07 0-2.86zM5.41 20L4 18.59l7.72-7.72 1.47 1.35L5.41 20z\"/>\n",
              "  </svg>\n",
              "      </button>\n",
              "      \n",
              "  <style>\n",
              "    .colab-df-container {\n",
              "      display:flex;\n",
              "      flex-wrap:wrap;\n",
              "      gap: 12px;\n",
              "    }\n",
              "\n",
              "    .colab-df-convert {\n",
              "      background-color: #E8F0FE;\n",
              "      border: none;\n",
              "      border-radius: 50%;\n",
              "      cursor: pointer;\n",
              "      display: none;\n",
              "      fill: #1967D2;\n",
              "      height: 32px;\n",
              "      padding: 0 0 0 0;\n",
              "      width: 32px;\n",
              "    }\n",
              "\n",
              "    .colab-df-convert:hover {\n",
              "      background-color: #E2EBFA;\n",
              "      box-shadow: 0px 1px 2px rgba(60, 64, 67, 0.3), 0px 1px 3px 1px rgba(60, 64, 67, 0.15);\n",
              "      fill: #174EA6;\n",
              "    }\n",
              "\n",
              "    [theme=dark] .colab-df-convert {\n",
              "      background-color: #3B4455;\n",
              "      fill: #D2E3FC;\n",
              "    }\n",
              "\n",
              "    [theme=dark] .colab-df-convert:hover {\n",
              "      background-color: #434B5C;\n",
              "      box-shadow: 0px 1px 3px 1px rgba(0, 0, 0, 0.15);\n",
              "      filter: drop-shadow(0px 1px 2px rgba(0, 0, 0, 0.3));\n",
              "      fill: #FFFFFF;\n",
              "    }\n",
              "  </style>\n",
              "\n",
              "      <script>\n",
              "        const buttonEl =\n",
              "          document.querySelector('#df-b076c7a8-5fe3-484f-ad52-47493a28001e button.colab-df-convert');\n",
              "        buttonEl.style.display =\n",
              "          google.colab.kernel.accessAllowed ? 'block' : 'none';\n",
              "\n",
              "        async function convertToInteractive(key) {\n",
              "          const element = document.querySelector('#df-b076c7a8-5fe3-484f-ad52-47493a28001e');\n",
              "          const dataTable =\n",
              "            await google.colab.kernel.invokeFunction('convertToInteractive',\n",
              "                                                     [key], {});\n",
              "          if (!dataTable) return;\n",
              "\n",
              "          const docLinkHtml = 'Like what you see? Visit the ' +\n",
              "            '<a target=\"_blank\" href=https://colab.research.google.com/notebooks/data_table.ipynb>data table notebook</a>'\n",
              "            + ' to learn more about interactive tables.';\n",
              "          element.innerHTML = '';\n",
              "          dataTable['output_type'] = 'display_data';\n",
              "          await google.colab.output.renderOutput(dataTable, element);\n",
              "          const docLink = document.createElement('div');\n",
              "          docLink.innerHTML = docLinkHtml;\n",
              "          element.appendChild(docLink);\n",
              "        }\n",
              "      </script>\n",
              "    </div>\n",
              "  </div>\n",
              "  "
            ]
          },
          "metadata": {},
          "execution_count": 27
        }
      ]
    },
    {
      "cell_type": "code",
      "source": [
        "importances.plot.bar()"
      ],
      "metadata": {
        "colab": {
          "base_uri": "https://localhost:8080/",
          "height": 402
        },
        "id": "287kMAvBRB9U",
        "outputId": "37b82961-4ecc-455e-b6a9-4ed60810c112"
      },
      "execution_count": null,
      "outputs": [
        {
          "output_type": "execute_result",
          "data": {
            "text/plain": [
              "<matplotlib.axes._subplots.AxesSubplot at 0x7f00f280b280>"
            ]
          },
          "metadata": {},
          "execution_count": 26
        },
        {
          "output_type": "display_data",
          "data": {
            "text/plain": [
              "<Figure size 432x288 with 1 Axes>"
            ],
            "image/png": "[encoded data removed]"
          },
          "metadata": {
            "needs_background": "light"
          }
        }
      ]
    },
    {
      "cell_type": "markdown",
      "source": [
        "**Conclusion:**\n",
        "\n",
        "'min_step_speed' and 'stddev_step_accel' do not play a significant role in our random forest classifiers prediction process. Because of that we will drop them from the dataset and train the classifier again.\n",
        "Looking at the correlation plots from above, we choose to remove 'mean_step_disp', 'max_step_disp', 'min_step_disp', and 'stddev_step_disp', as they heavily correlate with their respective speed x-variables."
      ],
      "metadata": {
        "id": "p-tfFr9fTj2Y"
      }
    },
    {
      "cell_type": "markdown",
      "source": [
        "## **Data Preprocessing with New Features**"
      ],
      "metadata": {
        "id": "_3hQFV22jfAI"
      }
    },
    {
      "cell_type": "code",
      "source": [
        "train_data_new = train_data.drop('mean_step_disp', axis = 1)\n",
        "train_data_new = train_data_new.drop('max_step_disp', axis = 1)\n",
        "train_data_new = train_data_new.drop('min_step_disp', axis = 1)\n",
        "train_data_new = train_data_new.drop('stddev_step_disp', axis = 1)\n",
        "\n",
        "train_data_new = train_data_new.drop('stddev_step_accel', axis = 1)\n",
        "train_data_new = train_data_new.drop('min_step_speed', axis = 1)"
      ],
      "metadata": {
        "id": "jEKGIyGcLQzW"
      },
      "execution_count": null,
      "outputs": []
    },
    {
      "cell_type": "code",
      "source": [
        "(train_data_new.columns.values)\n"
      ],
      "metadata": {
        "colab": {
          "base_uri": "https://localhost:8080/"
        },
        "id": "zGY8_npYS1h7",
        "outputId": "c34bce13-5783-48c4-c935-fbe249e6b8ca"
      },
      "execution_count": null,
      "outputs": [
        {
          "output_type": "execute_result",
          "data": {
            "text/plain": [
              "array(['uid', 'label', 'mean_step_speed', 'stddev_step_speed',\n",
              "       'track_length', 'e2e_distance', 'duration', 'max_step_speed',\n",
              "       'mean_angle', 'std_angle', 'max_angle', 'min_angle',\n",
              "       'mean_step_accel'], dtype=object)"
            ]
          },
          "metadata": {},
          "execution_count": 41
        }
      ]
    },
    {
      "cell_type": "code",
      "source": [
        "corr_df=train_data_new.corr()\n",
        "cor= corr_df.corr(method='pearson')\n",
        "print(cor)"
      ],
      "metadata": {
        "colab": {
          "base_uri": "https://localhost:8080/"
        },
        "id": "5mETOlyTLV7r",
        "outputId": "4cd6989b-ef41-4496-95ab-c4c49154873d"
      },
      "execution_count": null,
      "outputs": [
        {
          "output_type": "stream",
          "name": "stdout",
          "text": [
            "                      label  mean_step_speed  stddev_step_speed  track_length  \\\n",
            "label              1.000000         0.963304           0.878055      0.572848   \n",
            "mean_step_speed    0.963304         1.000000           0.893707      0.517413   \n",
            "stddev_step_speed  0.878055         0.893707           1.000000      0.505935   \n",
            "track_length       0.572848         0.517413           0.505935      1.000000   \n",
            "e2e_distance      -0.002894        -0.012260           0.005132      0.804370   \n",
            "duration          -0.176255        -0.237563          -0.180406      0.699074   \n",
            "max_step_speed     0.690149         0.738058           0.950058      0.362665   \n",
            "mean_angle        -0.975952        -0.945843          -0.881510     -0.624107   \n",
            "std_angle          0.984183         0.915764           0.847004      0.644755   \n",
            "max_angle          0.821223         0.707470           0.655634      0.685172   \n",
            "min_angle         -0.989598        -0.937106          -0.871520     -0.671034   \n",
            "mean_step_accel    0.895300         0.916952           0.880283      0.361062   \n",
            "\n",
            "                   e2e_distance  duration  max_step_speed  mean_angle  \\\n",
            "label                 -0.002894 -0.176255        0.690149   -0.975952   \n",
            "mean_step_speed       -0.012260 -0.237563        0.738058   -0.945843   \n",
            "stddev_step_speed      0.005132 -0.180406        0.950058   -0.881510   \n",
            "track_length           0.804370  0.699074        0.362665   -0.624107   \n",
            "e2e_distance           1.000000  0.948074       -0.036768   -0.074202   \n",
            "duration               0.948074  1.000000       -0.202124    0.092059   \n",
            "max_step_speed        -0.036768 -0.202124        1.000000   -0.716332   \n",
            "mean_angle            -0.074202  0.092059       -0.716332    1.000000   \n",
            "std_angle              0.080365 -0.067783        0.645586   -0.961517   \n",
            "max_angle              0.222907  0.124479        0.433486   -0.742883   \n",
            "min_angle             -0.116475  0.046903       -0.680612    0.977579   \n",
            "mean_step_accel       -0.179310 -0.352434        0.762908   -0.857535   \n",
            "\n",
            "                   std_angle  max_angle  min_angle  mean_step_accel  \n",
            "label               0.984183   0.821223  -0.989598         0.895300  \n",
            "mean_step_speed     0.915764   0.707470  -0.937106         0.916952  \n",
            "stddev_step_speed   0.847004   0.655634  -0.871520         0.880283  \n",
            "track_length        0.644755   0.685172  -0.671034         0.361062  \n",
            "e2e_distance        0.080365   0.222907  -0.116475        -0.179310  \n",
            "duration           -0.067783   0.124479   0.046903        -0.352434  \n",
            "max_step_speed      0.645586   0.433486  -0.680612         0.762908  \n",
            "mean_angle         -0.961517  -0.742883   0.977579        -0.857535  \n",
            "std_angle           1.000000   0.890750  -0.995231         0.843279  \n",
            "max_angle           0.890750   1.000000  -0.861357         0.645670  \n",
            "min_angle          -0.995231  -0.861357   1.000000        -0.852169  \n",
            "mean_step_accel     0.843279   0.645670  -0.852169         1.000000  \n"
          ]
        }
      ]
    },
    {
      "cell_type": "code",
      "source": [
        "fig, ax =plt.subplots(figsize=(8, 6))\n",
        "plt.title(\"Correlation Plot\")\n",
        "sns.heatmap(cor, annot = True)\n",
        "plt.show()"
      ],
      "metadata": {
        "colab": {
          "base_uri": "https://localhost:8080/",
          "height": 496
        },
        "id": "a8tCHzSJLVvc",
        "outputId": "6b64bdb1-8535-4d9d-cbf8-465e2559edb0"
      },
      "execution_count": null,
      "outputs": [
        {
          "output_type": "display_data",
          "data": {
            "text/plain": [
              "<Figure size 576x432 with 2 Axes>"
            ],
            "image/png": "[encoded data removed]"
          },
          "metadata": {
            "needs_background": "light"
          }
        }
      ]
    },
    {
      "cell_type": "code",
      "source": [
        "col_newest = ['mean_step_speed', 'stddev_step_speed',\n",
        "       'track_length', 'e2e_distance', 'duration', 'max_step_speed',\n",
        "       'mean_angle', 'std_angle', 'max_angle', 'min_angle',\n",
        "       'mean_step_accel']"
      ],
      "metadata": {
        "id": "CYh2F1UvI5vZ"
      },
      "execution_count": null,
      "outputs": []
    },
    {
      "cell_type": "code",
      "source": [
        "train_data = train_data.dropna()\n",
        "X_train = train_data[col_newest] # Features\n",
        "Y_train = train_data.label # Target variable\n",
        "\n",
        "\n",
        "X_test = test_data[col_newest] # Features\n",
        "Y_test = test_data.label # Target variable"
      ],
      "metadata": {
        "id": "pXZvcfpmjhkn"
      },
      "execution_count": null,
      "outputs": []
    },
    {
      "cell_type": "markdown",
      "source": [
        "Training random forest once again:"
      ],
      "metadata": {
        "id": "QWbMMgxEXxJa"
      }
    },
    {
      "cell_type": "code",
      "source": [
        "random_forest = RandomForestClassifier()\n",
        "random_forest.fit(X_train, Y_train)\n",
        "Y_prediction = random_forest.predict(X_test)\n",
        "\n",
        "random_forest.score(X_train, Y_train)\n",
        "\n",
        "acc_random_forest = round(random_forest.score(X_train, Y_train) * 100, 2)\n",
        "print(round(acc_random_forest,2,), \"%\")"
      ],
      "metadata": {
        "colab": {
          "base_uri": "https://localhost:8080/"
        },
        "id": "9jmk92NWX5pA",
        "outputId": "5cb1e27e-43cc-4a30-d45e-7964d0033635"
      },
      "execution_count": null,
      "outputs": [
        {
          "output_type": "stream",
          "name": "stdout",
          "text": [
            "99.94 %\n"
          ]
        }
      ]
    },
    {
      "cell_type": "markdown",
      "source": [
        "##Hyperparameter Tuning\n",
        "Below you can see the code of the hyperparamter tuning for the parameters criterion, min_samples_leaf, min_samples_split, n_estimators, max_features, max_depth, and bootstrap.\n",
        "\n",
        "We use RandomSearchCV to choose only a few ‘random’ combinations out of all the available combinations of parameters to test. \n",
        "\n",
        "In the below code, the RandomizedSearchCV function will try any 150 (given by parameter 'n_iter) combinations of hyperparameters.\n",
        "\n",
        "We have specified cv=10. This means the model will be tested(cross-validated) 10 times. By dividing the data into 10 parts, choosing one part as testing and the other 9 as training data. The final accuracy for each combination of hyperparameter is the average of these 10 iterations.\n",
        "\n",
        "\n",
        "n_jobs = -1 specifies the number of parallel threads to run and verbose = 2 means how much detail to print out while fitting the model, the higher the value, the more the details printed.\n"
      ],
      "metadata": {
        "id": "SjhhKSl6YTod"
      }
    },
    {
      "cell_type": "code",
      "source": [
        "from sklearn.model_selection import RandomizedSearchCV"
      ],
      "metadata": {
        "id": "OFc_qnMMk4yy"
      },
      "execution_count": null,
      "outputs": []
    },
    {
      "cell_type": "code",
      "source": [
        "n_estimators = [int(x) for x in np.linspace(start = 1, stop = 20, num = 20)]\n",
        "max_features = ['auto', 'sqrt']\n",
        "max_depth = [int(x) for x in np.linspace(10, 120, num = 12)]\n",
        "min_samples_split = [2, 6, 10, 12, 16, 4, 5]\n",
        "min_samples_leaf = [1, 3, 4, 5, 8, 10]\n",
        "bootstrap = [True, False]\n",
        "criterion = ['gini', 'entropy']"
      ],
      "metadata": {
        "id": "5WuRUATnn_3j"
      },
      "execution_count": null,
      "outputs": []
    },
    {
      "cell_type": "code",
      "source": [
        "random_grid = {'n_estimators': n_estimators,\n",
        "\n",
        "'max_features': max_features,\n",
        "\n",
        "'max_depth': max_depth,\n",
        "\n",
        "'min_samples_split': min_samples_split,\n",
        "\n",
        "'min_samples_leaf': min_samples_leaf,\n",
        "\n",
        "'bootstrap': bootstrap, \n",
        "'criterion':['gini', 'entropy']}\n",
        "\n"
      ],
      "metadata": {
        "id": "8RkUVbBOnu-Q"
      },
      "execution_count": null,
      "outputs": []
    },
    {
      "cell_type": "code",
      "source": [
        "rf_random = RandomizedSearchCV(estimator = random_forest,\n",
        "\n",
        "param_distributions = random_grid,\n",
        "               n_iter = 150, cv = 10, verbose=2, random_state=35, n_jobs = -1)"
      ],
      "metadata": {
        "id": "f_Rcmhvfn88Z"
      },
      "execution_count": null,
      "outputs": []
    },
    {
      "cell_type": "code",
      "source": [
        "rf_random.fit(X_train,Y_train)"
      ],
      "metadata": {
        "colab": {
          "base_uri": "https://localhost:8080/"
        },
        "id": "FS5Z11vuoDyU",
        "outputId": "b12f53ff-e298-4e6d-8445-bb3fc1670c1b"
      },
      "execution_count": null,
      "outputs": [
        {
          "output_type": "stream",
          "name": "stdout",
          "text": [
            "Fitting 10 folds for each of 150 candidates, totalling 1500 fits\n"
          ]
        },
        {
          "output_type": "execute_result",
          "data": {
            "text/plain": [
              "RandomizedSearchCV(cv=10, estimator=RandomForestClassifier(), n_iter=150,\n",
              "                   n_jobs=-1,\n",
              "                   param_distributions={'bootstrap': [True, False],\n",
              "                                        'criterion': ['gini', 'entropy'],\n",
              "                                        'max_depth': [10, 20, 30, 40, 50, 60,\n",
              "                                                      70, 80, 90, 100, 110,\n",
              "                                                      120],\n",
              "                                        'max_features': ['auto', 'sqrt'],\n",
              "                                        'min_samples_leaf': [1, 3, 4, 5, 8, 10],\n",
              "                                        'min_samples_split': [2, 6, 10, 12, 16,\n",
              "                                                              4, 5],\n",
              "                                        'n_estimators': [1, 2, 3, 4, 5, 6, 7, 8,\n",
              "                                                         9, 10, 11, 12, 13, 14,\n",
              "                                                         15, 16, 17, 18, 19,\n",
              "                                                         20]},\n",
              "                   random_state=35, verbose=2)"
            ]
          },
          "metadata": {},
          "execution_count": 58
        }
      ]
    },
    {
      "cell_type": "code",
      "source": [
        "# this prints the contents of the parameters in the random grid\n",
        "print ('Random grid: ', random_grid, '\\n')\n",
        "\n",
        "# print the best parameters\n",
        "print ('Best Parameters: ', rf_random.best_params_, ' \\n')"
      ],
      "metadata": {
        "colab": {
          "base_uri": "https://localhost:8080/"
        },
        "id": "RTRMh63SoKIq",
        "outputId": "f233ca7c-f59c-416f-eef0-bf213c7a0adf"
      },
      "execution_count": null,
      "outputs": [
        {
          "output_type": "stream",
          "name": "stdout",
          "text": [
            "Random grid:  {'n_estimators': [1, 2, 3, 4, 5, 6, 7, 8, 9, 10, 11, 12, 13, 14, 15, 16, 17, 18, 19, 20], 'max_features': ['auto', 'sqrt'], 'max_depth': [10, 20, 30, 40, 50, 60, 70, 80, 90, 100, 110, 120], 'min_samples_split': [2, 6, 10, 12, 16, 4, 5], 'min_samples_leaf': [1, 3, 4, 5, 8, 10], 'bootstrap': [True, False], 'criterion': ['gini', 'entropy']} \n",
            "\n",
            "Best Parameters:  {'n_estimators': 3, 'min_samples_split': 6, 'min_samples_leaf': 10, 'max_features': 'auto', 'max_depth': 30, 'criterion': 'entropy', 'bootstrap': True}  \n",
            "\n"
          ]
        }
      ]
    },
    {
      "cell_type": "code",
      "source": [
        "rfc_new = RandomForestClassifier(n_estimators=3, min_samples_split=6, min_samples_leaf=10, max_features= 'auto',max_depth=30, criterion='entropy', bootstrap=True)\n"
      ],
      "metadata": {
        "id": "nnYV25ckorl0"
      },
      "execution_count": null,
      "outputs": []
    },
    {
      "cell_type": "code",
      "source": [
        "rfc_new.fit(X_train, Y_train)"
      ],
      "metadata": {
        "colab": {
          "base_uri": "https://localhost:8080/"
        },
        "id": "AwF9YcZRpVH5",
        "outputId": "ebb607ad-cc19-4968-b13b-fb174ce48077"
      },
      "execution_count": null,
      "outputs": [
        {
          "output_type": "execute_result",
          "data": {
            "text/plain": [
              "RandomForestClassifier(criterion='entropy', max_depth=30, min_samples_leaf=10,\n",
              "                       min_samples_split=6, n_estimators=3)"
            ]
          },
          "metadata": {},
          "execution_count": 61
        }
      ]
    },
    {
      "cell_type": "code",
      "source": [
        "pred=rfc_new.predict(X_test)"
      ],
      "metadata": {
        "id": "alvJTirjpSPm"
      },
      "execution_count": null,
      "outputs": []
    },
    {
      "cell_type": "code",
      "source": [
        "rfc_new.score(X_train, Y_train)\n",
        "acc_r_f = round(rfc_new.score(X_train, Y_train) * 100, 2)\n",
        "print(round(acc_r_f,2,), \"%\")"
      ],
      "metadata": {
        "colab": {
          "base_uri": "https://localhost:8080/"
        },
        "id": "PWlklKuncVpQ",
        "outputId": "f77ea30f-cd49-4e16-a4df-407c94eafdbd"
      },
      "execution_count": null,
      "outputs": [
        {
          "output_type": "stream",
          "name": "stdout",
          "text": [
            "99.66 %\n"
          ]
        }
      ]
    },
    {
      "cell_type": "markdown",
      "source": [
        "## Evaluation of Model Performance: Confusion Matrix"
      ],
      "metadata": {
        "id": "q9MJIvyjcnJg"
      }
    },
    {
      "cell_type": "code",
      "source": [
        "from sklearn.model_selection import cross_val_predict\n",
        "from sklearn.metrics import confusion_matrix\n",
        "predictions = cross_val_predict(rfc_new, X_train, Y_train, cv=3)\n",
        "confusion_matrix(Y_train, predictions)"
      ],
      "metadata": {
        "colab": {
          "base_uri": "https://localhost:8080/"
        },
        "id": "1hMcZ3hucs1T",
        "outputId": "2fd10d7e-d1e6-4940-c864-2a72d7c3ad2f"
      },
      "execution_count": null,
      "outputs": [
        {
          "output_type": "execute_result",
          "data": {
            "text/plain": [
              "array([[8022,  121],\n",
              "       [  31, 7839]])"
            ]
          },
          "metadata": {},
          "execution_count": 68
        }
      ]
    },
    {
      "cell_type": "markdown",
      "source": [
        "The first row is about the not-motile-predictions: 8022 samples were correctly classified as not motile (called true negatives) and 121 where wrongly classified as not motile (false negatives).\n",
        "\n",
        "The second row is about the motile-predictions: 31 samples where wrongly classified as motile(false positives) and 7839 where correctly classified as motil (true positives)."
      ],
      "metadata": {
        "id": "yywT4FBTc9Zb"
      }
    },
    {
      "cell_type": "markdown",
      "source": [
        "## Precision and Recall"
      ],
      "metadata": {
        "id": "R5tkWrREdgIO"
      }
    },
    {
      "cell_type": "code",
      "source": [
        "from sklearn.metrics import precision_score, recall_score\n",
        "\n",
        "print(\"Precision:\", precision_score(Y_train, predictions))\n",
        "print(\"Recall:\",recall_score(Y_train, predictions))"
      ],
      "metadata": {
        "colab": {
          "base_uri": "https://localhost:8080/"
        },
        "id": "9XthoRMfdf6w",
        "outputId": "f32be0ac-6a90-4c1d-eac4-604a7b090c3d"
      },
      "execution_count": null,
      "outputs": [
        {
          "output_type": "stream",
          "name": "stdout",
          "text": [
            "Precision: 0.9847989949748743\n",
            "Recall: 0.9960609911054638\n"
          ]
        }
      ]
    },
    {
      "cell_type": "markdown",
      "source": [
        "Our model predicts 98% of the time a sample being motile correctly (precision). The recall tells us that it predicted samples being motile 99.6 % of the actually motile samples."
      ],
      "metadata": {
        "id": "uIh8sRYUdl28"
      }
    },
    {
      "cell_type": "markdown",
      "source": [
        "##F-Score\n",
        "You can combine precision and recall into one score, which is called the F-score. The F-score is computed with the harmonic mean of precision and recall. Note that it assigns much more weight to low values. As a result of that, the classifier will only get a high F-score, if both recall and precision are high."
      ],
      "metadata": {
        "id": "lUOMdjDtd2Fk"
      }
    },
    {
      "cell_type": "code",
      "source": [
        "from sklearn.metrics import f1_score\n",
        "f1_score(Y_train, predictions)"
      ],
      "metadata": {
        "colab": {
          "base_uri": "https://localhost:8080/"
        },
        "id": "eJeiMSSxdjEW",
        "outputId": "08358308-8496-45c5-d40f-3753df923479"
      },
      "execution_count": null,
      "outputs": [
        {
          "output_type": "execute_result",
          "data": {
            "text/plain": [
              "0.9903979785217941"
            ]
          },
          "metadata": {},
          "execution_count": 70
        }
      ]
    },
    {
      "cell_type": "code",
      "source": [
        "print(pred)"
      ],
      "metadata": {
        "colab": {
          "base_uri": "https://localhost:8080/"
        },
        "id": "tku3s_QWpYWs",
        "outputId": "513a671a-4cf0-4c00-a3c4-aed48dc3fb11"
      },
      "execution_count": null,
      "outputs": [
        {
          "output_type": "stream",
          "name": "stdout",
          "text": [
            "[0 1 1 1 1 1 1 1 1 1 0 1 1 1 1 1 1 1 1 1 1 1 0 1 1 1 1 1 1 0 1 1 1 1 1 1 1\n",
            " 1 1 1 1 0 0 1 0 1 1 1 1 1 1 1 0 0 0 0 0 0 0 0 0 0 0 0 0 0 0 0 0 0 0 1 0 0\n",
            " 0 0 0 0 0 0 0 1 1 0 0 1 0 0 0 0 1 1 0 1 0 0 0 0 0 0 0 0 0 1 0 1 0 0 0 0 0\n",
            " 0 0 0 0 1 0 1 0 0 0 0 1 1 0 0 0 0 0 1 0 1 1 0 1 1 1 0 1 1 0 1 1 1 1 0 1 1\n",
            " 0 1 0 0 1 1 0 1 0 0 1 1 0 0 1 0 1 1 1 0 1 0 1 0 0 1 0 0 0 1 1 1 0 0 1 1 1\n",
            " 1 1 1 1 1 0 0 0 0 0 1 1 1 1 0 0 0 0 0 0 0 0 1 0 0 0 0 0 1 0 1 1 1 1 0 0 0\n",
            " 0 1 0 0 0 0 0 1 0 1 1 0 0 0 1 1 1 0 0 0 0 0 1 0 0 1 1 1 0 1 1 0 0 0 1 0 0\n",
            " 0 0 0 0 0 0 0 0 0 0 0 1 1 0 0 0 0 0 0 0 0 0 0 0 0 0 1 1 1 0 1 0 1 1 1 1 1\n",
            " 0 0 0 0 0 1 0 1 0 0 0 0 0 0 0 0 0 0 0 0 0 0 0 0 1 1 0 0 1 0 1 0 1 1 1 0 0\n",
            " 1 1 1 0 1 0 0 0 0 0 0 0 0 0 0 0 1 0 0 0 0 0 0 0 1 0 0 0 0 0 1 0 0 0 0 1 0\n",
            " 0 0 1 0 0 1 1 0 0 1 0 0 1 0 0 0 0 0 0 0 0 0 0 0 0 0 0 0 0 1 1 0 0 1 0 0 0\n",
            " 0 1 0 1 1 0 0 0 0 0 0 0 0 0 0 0 0 0 0 0 1 0 0 0 0 0 0 1 0 0 0 0 0 0 0 1 0\n",
            " 0 0 0 1 0 0 0 0 1 1 0 0 0 0 0 0 0 0 0 1 0 1 1 1 0 0 1 1 1 1 1 0 1]\n"
          ]
        }
      ]
    },
    {
      "cell_type": "code",
      "source": [
        "print(len(pred))"
      ],
      "metadata": {
        "colab": {
          "base_uri": "https://localhost:8080/"
        },
        "id": "z-ChtLXhRu4q",
        "outputId": "3e671ff5-0d08-4354-aa73-ff9136bc72ad"
      },
      "execution_count": null,
      "outputs": [
        {
          "output_type": "stream",
          "name": "stdout",
          "text": [
            "477\n"
          ]
        }
      ]
    },
    {
      "cell_type": "code",
      "source": [
        "new_csv_columns = [\"uid\", \"label\"] "
      ],
      "metadata": {
        "id": "lmNl0avTps6T"
      },
      "execution_count": null,
      "outputs": []
    },
    {
      "cell_type": "code",
      "source": [
        "label_new_csv = np.asarray(pred)"
      ],
      "metadata": {
        "id": "1OD80dtJp471"
      },
      "execution_count": null,
      "outputs": []
    },
    {
      "cell_type": "code",
      "source": [
        "uid_new_csv = np.asarray(test_data.uid)"
      ],
      "metadata": {
        "id": "90Ths6qlp88H"
      },
      "execution_count": null,
      "outputs": []
    },
    {
      "cell_type": "code",
      "source": [
        "dictionary_new_csv = {\n",
        "    'uid':uid_new_csv,\n",
        "    'label': label_new_csv\n",
        "}"
      ],
      "metadata": {
        "id": "VJuCHBeGp_jD"
      },
      "execution_count": null,
      "outputs": []
    },
    {
      "cell_type": "code",
      "source": [
        "df = pd.DataFrame(dictionary_new_csv)"
      ],
      "metadata": {
        "id": "iowLqj5CqDAo"
      },
      "execution_count": null,
      "outputs": []
    },
    {
      "cell_type": "code",
      "source": [
        "df.to_csv(\"submission_.csv\",index=False, columns=new_csv_columns)"
      ],
      "metadata": {
        "id": "zhekyVnYqEU2"
      },
      "execution_count": null,
      "outputs": []
    },
    {
      "cell_type": "markdown",
      "source": [
        "Best CSV File Submission: "
      ],
      "metadata": {
        "id": "Ak1-tSDajtLe"
      }
    },
    {
      "cell_type": "markdown",
      "source": [
        "https://drive.google.com/file/d/1ZOi9tTahqN8fupOnZ-GkwvdZadskehXt/view?usp=share_link"
      ],
      "metadata": {
        "id": "an7CckdkQXki"
      }
    }
  ]
}